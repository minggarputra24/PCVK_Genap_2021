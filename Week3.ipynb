{
  "nbformat": 4,
  "nbformat_minor": 0,
  "metadata": {
    "colab": {
      "name": "Week3.ipynb",
      "provenance": [],
      "authorship_tag": "ABX9TyOEVPmHEKUZpGGUvhRJBxUy",
      "include_colab_link": true
    },
    "kernelspec": {
      "name": "python3",
      "display_name": "Python 3"
    }
  },
  "cells": [
    {
      "cell_type": "markdown",
      "metadata": {
        "id": "view-in-github",
        "colab_type": "text"
      },
      "source": [
        "<a href=\"https://colab.research.google.com/github/minggarputra24/PCVK_Genap_2021/blob/main/Week3.ipynb\" target=\"_parent\"><img src=\"https://colab.research.google.com/assets/colab-badge.svg\" alt=\"Open In Colab\"/></a>"
      ]
    },
    {
      "cell_type": "code",
      "metadata": {
        "id": "LehofvxULGJH"
      },
      "source": [
        "from google.colab import drive\r\n",
        "\r\n",
        "drive.mount('/content/drive')"
      ],
      "execution_count": null,
      "outputs": []
    },
    {
      "cell_type": "code",
      "metadata": {
        "id": "7YeLcIzFNDYT"
      },
      "source": [
        "import cv2 as cv \r\n",
        "from google.colab.patches import cv2_imshow \r\n",
        "from skimage import io \r\n",
        "import matplotlib.pyplot as plt \r\n",
        "import numpy as np \r\n",
        "\r\n",
        "img = cv.imread('/content/drive/MyDrive/PCVK/Images/image02.jpg')\r\n",
        "image = cv.cvtColor(img,cv.COLOR_BGR2RGB)\r\n",
        "plt.imshow(image)"
      ],
      "execution_count": null,
      "outputs": []
    },
    {
      "cell_type": "code",
      "metadata": {
        "colab": {
          "base_uri": "https://localhost:8080/"
        },
        "id": "JL7ir_FfOMRV",
        "outputId": "e21815d2-549a-458c-8ac5-9fdb8dfeef54"
      },
      "source": [
        "# Transformasi Linier Brightness\r\n",
        "print(' Mengubah tingkat kecerahan citra')\r\n",
        "print('---------------------------------')\r\n",
        "\r\n",
        "try:\r\n",
        "    brightness = int(input('Masukkan nilai kecerahan: '))\r\n",
        "except ValueError:\r\n",
        "    print('Error, not a number')\r\n",
        "\r\n",
        "original = cv.imread('/content/drive/MyDrive/PCVK/Images/image02.jpg')\r\n",
        "brightness_image = np.zeros(original.shape, original.dtype)\r\n",
        "\r\n",
        "#akses per piksel\r\n",
        "for y in range(original.shape[0]):\r\n",
        "    for x in range(original.shape[1]):\r\n",
        "        for c in range(original.shape[2]):\r\n",
        "            brightness_image[y,x,c] = np.clip(original[y,x,c] + brightness, 0, 255)\r\n",
        "\r\n",
        "#cara simple tanpa for loop\r\n",
        "#brightness_image = cv.convertScaleAbs(original, beta=brightness)\r\n",
        "\r\n",
        "final_frame = cv.hconcat((original, brightness_image))\r\n",
        "cv2_imshow(final_frame)"
      ],
      "execution_count": null,
      "outputs": [
        {
          "output_type": "stream",
          "text": [
            " Mengubah tingkat kecerahan citra\n",
            "---------------------------------\n"
          ],
          "name": "stdout"
        }
      ]
    }
  ]
}